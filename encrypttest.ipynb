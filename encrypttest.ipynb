{
 "cells": [
  {
   "cell_type": "code",
   "execution_count": 1,
   "metadata": {},
   "outputs": [],
   "source": [
    "from cryptography.fernet import Fernet\n",
    "import os"
   ]
  },
  {
   "cell_type": "code",
   "execution_count": 2,
   "metadata": {},
   "outputs": [
    {
     "data": {
      "text/plain": [
       "b'\\xc3F\\xcf\\x93\\xbd\\r\\xd2L??\\xc2K\\xafE\\xbf\\xb9@\\xea\\xd3\\xeb\\xf4\\x9b\\xb5t4\\x88\\x9f\\x84\\xfdU$('"
      ]
     },
     "execution_count": 2,
     "metadata": {},
     "output_type": "execute_result"
    }
   ],
   "source": [
    "os.urandom(32)"
   ]
  },
  {
   "cell_type": "code",
   "execution_count": 38,
   "metadata": {},
   "outputs": [],
   "source": [
    "rand_1MB = os.urandom(1_048_576) # Wygeneruj losowy 1MB\n",
    "\n",
    "with open(\"randoms.bin\", \"wb\") as file: # Zapisz do pliku\n",
    "    file.write(rand_1MB)\n",
    "\n",
    "rand_1MB[:100]"
   ]
  },
  {
   "cell_type": "code",
   "execution_count": 2,
   "metadata": {},
   "outputs": [],
   "source": [
    "def write_key():\n",
    "    \"\"\"\n",
    "    Tworzy nowy klucz i zapisuje go do pliku.\n",
    "    Zwraca stworzony klucz.\n",
    "    \"\"\"\n",
    "    key = Fernet.generate_key()\n",
    "    with open(\"key_file.key\", \"wb\") as key_file:\n",
    "        key_file.write(key)\n",
    "    return key"
   ]
  },
  {
   "cell_type": "code",
   "execution_count": 2,
   "metadata": {},
   "outputs": [],
   "source": [
    "def read_key():\n",
    "    \"\"\"\n",
    "    Zwraca odczytany klucz z pliku.\n",
    "    \"\"\"\n",
    "    try:\n",
    "        file = open(\"key_file.key\",\"rb\")\n",
    "        key = file.read()\n",
    "        file.close()\n",
    "        return key\n",
    "    except Exception:\n",
    "        print(\"Couldn't open key file!\")\n",
    "        return None"
   ]
  },
  {
   "cell_type": "code",
   "execution_count": null,
   "metadata": {},
   "outputs": [],
   "source": [
    "key = read_key() # Użyj wartości b'Ww4Lpyluw0_XwOIFyIDA85mjCqjm0D2oQrDzftD43oc=' dla uploads.\n",
    "key"
   ]
  },
  {
   "cell_type": "code",
   "execution_count": 4,
   "metadata": {},
   "outputs": [],
   "source": [
    "def encrypt_data(data:bytearray, key:bytearray):\n",
    "    \"\"\"\n",
    "    Zaszyfrowuje dane przekazane przez `data` z użyciem klucza przekazanego jako `key`.\n",
    "    \"\"\"\n",
    "    f = Fernet(key)\n",
    "    return f.encrypt(data)"
   ]
  },
  {
   "cell_type": "code",
   "execution_count": 5,
   "metadata": {},
   "outputs": [],
   "source": [
    "def decrypt_data(data:bytearray, key:bytearray):\n",
    "    \"\"\"\n",
    "    Odszyfrowuje dane przekazane przez `data` z użyciem klucza przekazanego jako `key`.\n",
    "    \"\"\"\n",
    "    f = Fernet(key)\n",
    "    return f.decrypt(data)"
   ]
  },
  {
   "cell_type": "code",
   "execution_count": 6,
   "metadata": {},
   "outputs": [],
   "source": [
    "def encrypt_file(filename:str, key:bytearray):\n",
    "    \"\"\"\n",
    "    Zaszyfrowuje plik o nazwie `filename` z użyciem klucza `key`, a zaszyfrowane dane zapisuje w pliku `filename + '.enc'`\n",
    "    \"\"\"\n",
    "    try:\n",
    "        infile = open(filename, \"rb\")\n",
    "        enc_file = open(filename + \".enc\", \"wb\")\n",
    "        enc_file.write(encrypt_data(infile.read(),key))\n",
    "        infile.close()\n",
    "        enc_file.close()\n",
    "        return True\n",
    "    except Exception as e:\n",
    "        print(e)\n",
    "        return False"
   ]
  },
  {
   "cell_type": "code",
   "execution_count": 32,
   "metadata": {},
   "outputs": [],
   "source": [
    "def decrypt_file(filename:str, key:bytearray):\n",
    "    \"\"\"\n",
    "    Odszyfrowuje dane z pliku `filename` z użyciem klucza `key`, a odszyfrowane dane zapisuje do pliku `filename - '.enc'` dla plików których nazwa kończy się na `.enc`.\n",
    "    W przeciwnym wypadku zapisuje dane do pliku o nazwie `filename + '.dec'`\n",
    "    \"\"\"\n",
    "    try:\n",
    "        enc_file = open(filename, \"rb\")\n",
    "        if filename.lower().endswith(\".enc\"):\n",
    "            filename = filename[:-4]\n",
    "        else: filename += \".dec\"\n",
    "        dec_file = open(filename, \"wb\")\n",
    "        dec_file.write(decrypt_data(enc_file.read(),key))\n",
    "        dec_file.close()\n",
    "        enc_file.close()\n",
    "        return True\n",
    "    except Exception as e:\n",
    "        print(e)\n",
    "        return False"
   ]
  },
  {
   "cell_type": "code",
   "execution_count": 33,
   "metadata": {},
   "outputs": [
    {
     "data": {
      "text/plain": [
       "True"
      ]
     },
     "execution_count": 33,
     "metadata": {},
     "output_type": "execute_result"
    }
   ],
   "source": [
    "encrypt_file(\"2022-10-25 19-54-59.mkv\", key) # ~476MB -> 10.1s i5-4460"
   ]
  },
  {
   "cell_type": "code",
   "execution_count": 21,
   "metadata": {},
   "outputs": [
    {
     "data": {
      "text/plain": [
       "True"
      ]
     },
     "execution_count": 21,
     "metadata": {},
     "output_type": "execute_result"
    }
   ],
   "source": [
    "decrypt_file(\"2022-10-25 19-54-59.mkv.enc\", key)# ~634MB (zaszyfrowane 476MB) -> 8.6s i5-4460"
   ]
  },
  {
   "cell_type": "code",
   "execution_count": 34,
   "metadata": {},
   "outputs": [
    {
     "data": {
      "text/plain": [
       "True"
      ]
     },
     "execution_count": 34,
     "metadata": {},
     "output_type": "execute_result"
    }
   ],
   "source": [
    "encrypt_file(\"2022-11-18 15-23-16.mkv\", key) # ~1.09GB -> 27.7s i5-4460 (8GB RAM peak)"
   ]
  },
  {
   "cell_type": "code",
   "execution_count": 35,
   "metadata": {},
   "outputs": [
    {
     "data": {
      "text/plain": [
       "True"
      ]
     },
     "execution_count": 35,
     "metadata": {},
     "output_type": "execute_result"
    }
   ],
   "source": [
    "decrypt_file(\"2022-11-18 15-23-16.mkv.enc\", key) # ~1.46GB -> 22.1s i5-4460 (4GB RAM peak)"
   ]
  },
  {
   "cell_type": "code",
   "execution_count": 7,
   "metadata": {},
   "outputs": [
    {
     "data": {
      "text/plain": [
       "True"
      ]
     },
     "execution_count": 7,
     "metadata": {},
     "output_type": "execute_result"
    }
   ],
   "source": [
    "encrypt_file(\"ca.crt\",key)\n",
    "encrypt_file(\"client.PJ.crt\",key)\n",
    "encrypt_file(\"client.PJ.key\",key)"
   ]
  },
  {
   "cell_type": "code",
   "execution_count": 1,
   "metadata": {},
   "outputs": [],
   "source": [
    "import sqlite3"
   ]
  },
  {
   "cell_type": "code",
   "execution_count": 3,
   "metadata": {},
   "outputs": [],
   "source": [
    "db = sqlite3.connect(\"users.db\")\n",
    "cursor = db.cursor()\n",
    "result = cursor.execute(\"SELECT * FROM files\")"
   ]
  },
  {
   "cell_type": "code",
   "execution_count": 4,
   "metadata": {},
   "outputs": [
    {
     "name": "stdout",
     "output_type": "stream",
     "text": [
      "(1, 'e51102d100e99295d87bb245ed277581f37b34791cacd1fec1e6a34acdbeb574', 'jakub', 'Instrumenty_Patnicze_w_prawie_polskim.pdf', '10696297bcff003c666234efcc802b6c5118fe2e52e033e117424ad57ff61558')\n"
     ]
    }
   ],
   "source": [
    "for res in result:\n",
    "    print(res)"
   ]
  },
  {
   "cell_type": "code",
   "execution_count": 5,
   "metadata": {},
   "outputs": [],
   "source": [
    "cursor.close()\n",
    "db.close()"
   ]
  }
 ],
 "metadata": {
  "kernelspec": {
   "display_name": "PD_PRO",
   "language": "python",
   "name": "python3"
  },
  "language_info": {
   "codemirror_mode": {
    "name": "ipython",
    "version": 3
   },
   "file_extension": ".py",
   "mimetype": "text/x-python",
   "name": "python",
   "nbconvert_exporter": "python",
   "pygments_lexer": "ipython3",
   "version": "3.10.9"
  },
  "orig_nbformat": 4
 },
 "nbformat": 4,
 "nbformat_minor": 2
}
